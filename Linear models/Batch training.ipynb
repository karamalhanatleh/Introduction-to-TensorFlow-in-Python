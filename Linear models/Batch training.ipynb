{
 "cells": [
  {
   "cell_type": "markdown",
   "id": "0552936f",
   "metadata": {},
   "source": [
    "# Batch training\n"
   ]
  },
  {
   "cell_type": "code",
   "execution_count": 14,
   "id": "e1970346",
   "metadata": {},
   "outputs": [],
   "source": [
    "# Import pandas and numpy\n",
    "import pandas as pd\n",
    "import numpy as np\n",
    "import tensorflow as tf\n"
   ]
  },
  {
   "cell_type": "code",
   "execution_count": 13,
   "id": "5c689c0e",
   "metadata": {},
   "outputs": [],
   "source": [
    "#load data in batched\n",
    "for batch in pd.read_csv('../data/kc_house_data.csv',chunksize=100):\n",
    "    #extract price columns\n",
    "    price = np.array(batch['price'] , np.float32)\n",
    "    \n",
    "    #extract size column\n",
    "    size = np.array(batch['sqft_lot'], np.float32)\n"
   ]
  },
  {
   "cell_type": "code",
   "execution_count": null,
   "id": "013ea6bc",
   "metadata": {},
   "outputs": [],
   "source": []
  },
  {
   "cell_type": "code",
   "execution_count": 15,
   "id": "ca0a98ea",
   "metadata": {},
   "outputs": [],
   "source": [
    "#defind ytainable Variables\n",
    "intercept = tf.Variable( 0.1 , tf.float32)\n",
    "slope = tf.Variable(0.1 , tf.float32)"
   ]
  },
  {
   "cell_type": "code",
   "execution_count": 16,
   "id": "13c673c1",
   "metadata": {},
   "outputs": [],
   "source": [
    "#defing the model \n",
    "def Linear_regression(intercept , slope , features):\n",
    "    return intercept+features*slope"
   ]
  },
  {
   "cell_type": "code",
   "execution_count": 17,
   "id": "94e0497e",
   "metadata": {},
   "outputs": [],
   "source": [
    "#computr predicted values and return loss function \n",
    "def loss_function(intercept , slope , target , features):\n",
    "    predicion = Linear_regression(intercept , slope , features)\n",
    "    return tf.keras.losses.mse(target , predicion)"
   ]
  },
  {
   "cell_type": "code",
   "execution_count": 18,
   "id": "869d31a2",
   "metadata": {},
   "outputs": [],
   "source": [
    "#define optimization \n",
    "opt = tf.keras.optimizers.Adam()"
   ]
  },
  {
   "cell_type": "code",
   "execution_count": 20,
   "id": "2f1454f0",
   "metadata": {},
   "outputs": [],
   "source": [
    "# Load the data in batches from pandas\n",
    "for batch in pd.read_csv('../data/kc_house_data.csv', chunksize=100):\n",
    "    # Extract the target and feature columns\n",
    "    price_batch = np.array(batch['price'], np.float32)\n",
    "    size_batch = np.array(batch['sqft_lot'], np.float32)\n",
    "    # Minimize the loss function\n",
    "    \n",
    "    opt.minimize(lambda: loss_function(intercept, slope, price_batch, size_batch),\n",
    "                 var_list=[intercept, slope])\n"
   ]
  },
  {
   "cell_type": "code",
   "execution_count": 21,
   "id": "502b7f93",
   "metadata": {},
   "outputs": [
    {
     "name": "stdout",
     "output_type": "stream",
     "text": [
      "0.31781912 0.29831016\n"
     ]
    }
   ],
   "source": [
    "#print parameter values\n",
    "print(intercept.numpy() , slope.numpy())"
   ]
  },
  {
   "cell_type": "code",
   "execution_count": null,
   "id": "78aaec69",
   "metadata": {},
   "outputs": [],
   "source": []
  },
  {
   "cell_type": "code",
   "execution_count": null,
   "id": "2fcd0f9f",
   "metadata": {},
   "outputs": [],
   "source": []
  },
  {
   "cell_type": "code",
   "execution_count": null,
   "id": "ef602dc1",
   "metadata": {},
   "outputs": [],
   "source": []
  },
  {
   "cell_type": "code",
   "execution_count": null,
   "id": "9021fe17",
   "metadata": {},
   "outputs": [],
   "source": []
  },
  {
   "cell_type": "markdown",
   "id": "f29d4177",
   "metadata": {},
   "source": [
    "##### Exercise"
   ]
  },
  {
   "cell_type": "markdown",
   "id": "30f4972c",
   "metadata": {},
   "source": [
    "###### Preparing to batch train\n"
   ]
  },
  {
   "cell_type": "code",
   "execution_count": 23,
   "id": "7eb07633",
   "metadata": {},
   "outputs": [],
   "source": [
    "from tensorflow import *"
   ]
  },
  {
   "cell_type": "code",
   "execution_count": 24,
   "id": "15298df4",
   "metadata": {},
   "outputs": [],
   "source": [
    "# Define the intercept and slope\n",
    "intercept = Variable(10.0, float32)\n",
    "slope = Variable(0.5, float32)\n",
    "\n",
    "# Define the model\n",
    "def linear_regression(intercept, slope, features):\n",
    "\t# Define the predicted values\n",
    "\treturn intercept + features*slope\n",
    "\n",
    "# Define the loss function\n",
    "def loss_function(intercept, slope, targets, features):\n",
    "\t# Define the predicted values\n",
    "\tpredictions = linear_regression(intercept, slope, features)\n",
    "    \n",
    " \t# Define the MSE loss\n",
    "\treturn keras.losses.mse(targets, predictions)"
   ]
  },
  {
   "cell_type": "code",
   "execution_count": null,
   "id": "f5e063d3",
   "metadata": {},
   "outputs": [],
   "source": []
  },
  {
   "cell_type": "code",
   "execution_count": null,
   "id": "8cf7d9f6",
   "metadata": {},
   "outputs": [],
   "source": []
  },
  {
   "cell_type": "markdown",
   "id": "f4af86f1",
   "metadata": {},
   "source": [
    "###### Training a linear model in batches\n"
   ]
  },
  {
   "cell_type": "code",
   "execution_count": null,
   "id": "9450d82b",
   "metadata": {},
   "outputs": [],
   "source": [
    "# Initialize Adam optimizer\n",
    "opt = keras.optimizers.Adam()\n",
    "\n",
    "# Load data in batches\n",
    "for batch in pd.read_csv('kc_house_data.csv', chunksize=100):\n",
    "\tsize_batch = np.array(batch['sqft_lot'], np.float32)\n",
    "\n",
    "\t# Extract the price values for the current batch\n",
    "\tprice_batch = np.array(batch['price'], np.float32)\n",
    "\n",
    "\t# Complete the loss, fill in the variable list, and minimize\n",
    "\topt.minimize(lambda: loss_function(intercept, slope, price_batch, size_batch), var_list=[intercept, slope])\n",
    "\n",
    "# Print trained parameters\n",
    "print(intercept.numpy(), slope.numpy())"
   ]
  }
 ],
 "metadata": {
  "kernelspec": {
   "display_name": "Python 3 (ipykernel)",
   "language": "python",
   "name": "python3"
  },
  "language_info": {
   "codemirror_mode": {
    "name": "ipython",
    "version": 3
   },
   "file_extension": ".py",
   "mimetype": "text/x-python",
   "name": "python",
   "nbconvert_exporter": "python",
   "pygments_lexer": "ipython3",
   "version": "3.9.13"
  }
 },
 "nbformat": 4,
 "nbformat_minor": 5
}
